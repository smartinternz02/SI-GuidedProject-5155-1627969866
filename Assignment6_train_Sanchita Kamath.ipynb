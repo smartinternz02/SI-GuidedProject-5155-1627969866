{
 "cells": [
  {
   "cell_type": "code",
   "execution_count": 1,
   "metadata": {},
   "outputs": [],
   "source": [
    "import numpy as np\n",
    "import pandas as pd\n",
    "\n",
    "#Importing all layers\n",
    "from tensorflow.keras.models import Sequential\n",
    "from tensorflow.keras.layers import Dense, Convolution2D, MaxPooling2D, Flatten "
   ]
  },
  {
   "cell_type": "code",
   "execution_count": 2,
   "metadata": {},
   "outputs": [],
   "source": [
    "from tensorflow.keras.preprocessing.image import ImageDataGenerator\n",
    "\n",
    "train_datagen = ImageDataGenerator(rescale=1./255, shear_range=0.2, zoom_range=0.2, horizontal_flip= True)\n",
    "test_datagen = ImageDataGenerator(rescale=1./255)"
   ]
  },
  {
   "cell_type": "code",
   "execution_count": 3,
   "metadata": {},
   "outputs": [
    {
     "name": "stdout",
     "output_type": "stream",
     "text": [
      "Found 1513 images belonging to 6 classes.\n",
      "Found 657 images belonging to 6 classes.\n"
     ]
    }
   ],
   "source": [
    "x_train = train_datagen.flow_from_directory(r\"C:\\Externship\\Crime Scene Detection\\trainset\", target_size=(64,64), \n",
    "                                            batch_size=32, class_mode= \"categorical\")\n",
    "x_test = test_datagen.flow_from_directory(r\"C:\\Externship\\Crime Scene Detection\\testset\", target_size=(64,64), \n",
    "                                            batch_size=32, class_mode= \"categorical\")"
   ]
  },
  {
   "cell_type": "code",
   "execution_count": 4,
   "metadata": {},
   "outputs": [],
   "source": [
    "cnn = Sequential()"
   ]
  },
  {
   "cell_type": "code",
   "execution_count": 5,
   "metadata": {},
   "outputs": [],
   "source": [
    "cnn.add(Convolution2D(32, (3,3), input_shape=(64,64,3)))"
   ]
  },
  {
   "cell_type": "code",
   "execution_count": 6,
   "metadata": {},
   "outputs": [],
   "source": [
    "cnn.add(MaxPooling2D((2,2)))\n",
    "cnn.add(Flatten())\n",
    "cnn.add(Dense(units=128, kernel_initializer=\"random_uniform\", activation=\"relu\"))"
   ]
  },
  {
   "cell_type": "code",
   "execution_count": 7,
   "metadata": {},
   "outputs": [],
   "source": [
    "cnn.add(Dense(units=6, kernel_initializer=\"random_uniform\", activation=\"softmax\"))"
   ]
  },
  {
   "cell_type": "code",
   "execution_count": 8,
   "metadata": {},
   "outputs": [],
   "source": [
    "cnn.compile(optimizer=\"rmsprop\", loss=\"categorical_crossentropy\", metrics=[\"accuracy\"])"
   ]
  },
  {
   "cell_type": "code",
   "execution_count": 9,
   "metadata": {
    "scrolled": true
   },
   "outputs": [
    {
     "name": "stdout",
     "output_type": "stream",
     "text": [
      "WARNING:tensorflow:From <ipython-input-9-7b368ab550ba>:3: Model.fit_generator (from tensorflow.python.keras.engine.training) is deprecated and will be removed in a future version.\n",
      "Instructions for updating:\n",
      "Please use Model.fit, which supports generators.\n",
      "WARNING:tensorflow:sample_weight modes were coerced from\n",
      "  ...\n",
      "    to  \n",
      "  ['...']\n",
      "WARNING:tensorflow:sample_weight modes were coerced from\n",
      "  ...\n",
      "    to  \n",
      "  ['...']\n",
      "Train for 47.28125 steps, validate for 20.53125 steps\n",
      "Epoch 1/10\n",
      "48/47 [==============================] - 758s 16s/step - loss: 1.3036 - accuracy: 0.6054 - val_loss: 0.7680 - val_accuracy: 0.7473\n",
      "Epoch 2/10\n",
      "48/47 [==============================] - 757s 16s/step - loss: 0.6133 - accuracy: 0.7885 - val_loss: 0.5162 - val_accuracy: 0.7945\n",
      "Epoch 3/10\n",
      "48/47 [==============================] - 758s 16s/step - loss: 0.4763 - accuracy: 0.8328 - val_loss: 0.6039 - val_accuracy: 0.7808\n",
      "Epoch 4/10\n",
      "48/47 [==============================] - 783s 16s/step - loss: 0.4225 - accuracy: 0.8500 - val_loss: 0.7529 - val_accuracy: 0.7473\n",
      "Epoch 5/10\n",
      "48/47 [==============================] - 799s 17s/step - loss: 0.3673 - accuracy: 0.8638 - val_loss: 0.3902 - val_accuracy: 0.8554\n",
      "Epoch 6/10\n",
      "48/47 [==============================] - 752s 16s/step - loss: 0.3248 - accuracy: 0.8837 - val_loss: 0.5508 - val_accuracy: 0.7930\n",
      "Epoch 7/10\n",
      "48/47 [==============================] - 753s 16s/step - loss: 0.2609 - accuracy: 0.9002 - val_loss: 0.4027 - val_accuracy: 0.8478\n",
      "Epoch 8/10\n",
      "48/47 [==============================] - 754s 16s/step - loss: 0.2946 - accuracy: 0.8929 - val_loss: 0.4162 - val_accuracy: 0.8600\n",
      "Epoch 9/10\n",
      "48/47 [==============================] - 748s 16s/step - loss: 0.2296 - accuracy: 0.9227 - val_loss: 0.3174 - val_accuracy: 0.8843\n",
      "Epoch 10/10\n",
      "48/47 [==============================] - 741s 15s/step - loss: 0.2205 - accuracy: 0.9247 - val_loss: 0.2816 - val_accuracy: 0.8980\n"
     ]
    },
    {
     "data": {
      "text/plain": [
       "<tensorflow.python.keras.callbacks.History at 0x2c01e93dc50>"
      ]
     },
     "execution_count": 9,
     "metadata": {},
     "output_type": "execute_result"
    }
   ],
   "source": [
    "import PIL.Image\n",
    "PIL.Image.MAX_IMAGE_PIXELS =156884995000\n",
    "cnn.fit_generator(x_train, steps_per_epoch=1513/32, epochs=10, validation_data=x_test, validation_steps=657/32)"
   ]
  },
  {
   "cell_type": "code",
   "execution_count": 10,
   "metadata": {},
   "outputs": [],
   "source": [
    "cnn.save(\"crime.h5\")"
   ]
  }
 ],
 "metadata": {
  "kernelspec": {
   "display_name": "Python 3",
   "language": "python",
   "name": "python3"
  },
  "language_info": {
   "codemirror_mode": {
    "name": "ipython",
    "version": 3
   },
   "file_extension": ".py",
   "mimetype": "text/x-python",
   "name": "python",
   "nbconvert_exporter": "python",
   "pygments_lexer": "ipython3",
   "version": "3.7.3"
  }
 },
 "nbformat": 4,
 "nbformat_minor": 2
}
